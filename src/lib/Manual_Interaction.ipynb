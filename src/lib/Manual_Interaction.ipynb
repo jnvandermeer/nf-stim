{
 "cells": [
  {
   "cell_type": "code",
   "execution_count": 9,
   "metadata": {},
   "outputs": [],
   "source": [
    "import socket\n",
    "from lib import bcixml, bcinetwork"
   ]
  },
  {
   "cell_type": "code",
   "execution_count": 12,
   "metadata": {},
   "outputs": [],
   "source": [
    "bcinet = bcinetwork.BciNetwork('10.1.121.28', 12345, 12346, protocol='bcixml')"
   ]
  },
  {
   "cell_type": "code",
   "execution_count": 16,
   "metadata": {},
   "outputs": [],
   "source": [
    "feedbacks = bcinet.getAvailableFeedbacks()"
   ]
  },
  {
   "cell_type": "code",
   "execution_count": 18,
   "metadata": {},
   "outputs": [
    {
     "data": {
      "text/plain": [
       "['TestD2',\n",
       " 'MovingRhomb',\n",
       " 'LibetClock',\n",
       " 'TobiQLAdapter',\n",
       " 'Lesson04',\n",
       " 'EyetrackerFeedback',\n",
       " 'HexoSpeller',\n",
       " 'P300_Rectangle',\n",
       " 'ERPHex',\n",
       " 'FeedbackCursorArrow',\n",
       " 'TrivialPong',\n",
       " 'CheckerboardVEP',\n",
       " 'HexoSpellerVE',\n",
       " 'BoringClock',\n",
       " 'nback_verbal',\n",
       " 'VisualOddball',\n",
       " 'BrainPong',\n",
       " 'CakeSpellerVE',\n",
       " 'MovingRhombGL',\n",
       " 'RSVPSpeller',\n",
       " 'Oddball',\n",
       " 'Lesson01b',\n",
       " 'GoalKeeper',\n",
       " 'CenterSpellerVE',\n",
       " 'MultiVisualOddball',\n",
       " 'StroopFeedback',\n",
       " 'ERPMatrix',\n",
       " 'EyetrackerRawdata',\n",
       " 'Lesson05',\n",
       " 'Lesson06',\n",
       " 'Lesson01',\n",
       " 'Lesson02',\n",
       " 'Lesson03',\n",
       " 'VisualOddballVE']"
      ]
     },
     "execution_count": 18,
     "metadata": {},
     "output_type": "execute_result"
    }
   ],
   "source": [
    "feedbacks"
   ]
  },
  {
   "cell_type": "code",
   "execution_count": null,
   "metadata": {},
   "outputs": [],
   "source": []
  }
 ],
 "metadata": {
  "kernelspec": {
   "display_name": "Python 2",
   "language": "python",
   "name": "python2"
  },
  "language_info": {
   "codemirror_mode": {
    "name": "ipython",
    "version": 2
   },
   "file_extension": ".py",
   "mimetype": "text/x-python",
   "name": "python",
   "nbconvert_exporter": "python",
   "pygments_lexer": "ipython2",
   "version": "2.7.13"
  }
 },
 "nbformat": 4,
 "nbformat_minor": 2
}
