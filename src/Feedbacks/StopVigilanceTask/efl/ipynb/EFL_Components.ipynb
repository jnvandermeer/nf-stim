{
 "cells": [
  {
   "cell_type": "markdown",
   "metadata": {},
   "source": [
    "# Components of the EFL\n",
    "\n",
    "VISUAL: There should be:\n",
    "- visual L\n",
    "- visual R\n",
    "- circle\n",
    "- arrow left (white)\n",
    "- arrow left (red)\n",
    "- arrow right (white)\n",
    "- arrow right (red)\n",
    "- white screen (i.e. red dot?)\n",
    "\n",
    "GNG Responses types:\n",
    "- Correct (Go-Respond or Stop-Inhibit)\n",
    "- TooFast (time < 0.050 (?) s)\n",
    "- ErrorCommission (Stop-Respond)\n",
    "- ErrorOmission (Go-Inhibit)\n",
    "- DoubleResponse (responded twice = error)\n",
    "\n",
    "Extra Dimension:\n",
    "- WrongSide\n",
    "\n",
    "ResponseTime\n",
    "- -1 \n",
    "- or.. what the subject pressed\n",
    "\n",
    "\n",
    "\n",
    "\n"
   ]
  },
  {
   "cell_type": "code",
   "execution_count": 1,
   "metadata": {},
   "outputs": [],
   "source": [
    "from psychopy import visual\n",
    "import pygame, pyglet"
   ]
  },
  {
   "cell_type": "code",
   "execution_count": 2,
   "metadata": {},
   "outputs": [],
   "source": [
    "win=visual.Window(allowGUI=True, fullscr=False, winType='pyglet')"
   ]
  },
  {
   "cell_type": "code",
   "execution_count": 3,
   "metadata": {},
   "outputs": [],
   "source": [
    "def blabla(strin):\n",
    "    print(strin)\n",
    "    "
   ]
  },
  {
   "cell_type": "code",
   "execution_count": 10,
   "metadata": {},
   "outputs": [],
   "source": [
    "win.callOnFlip(blabla,'a')"
   ]
  },
  {
   "cell_type": "code",
   "execution_count": 12,
   "metadata": {},
   "outputs": [
    {
     "name": "stdout",
     "output_type": "stream",
     "text": [
      "34.2320 \tWARNING \tMonitor specification not found. Creating a temporary one...\n"
     ]
    }
   ],
   "source": [
    "win.close()"
   ]
  },
  {
   "cell_type": "code",
   "execution_count": 34,
   "metadata": {},
   "outputs": [],
   "source": [
    "# load in the visual stimuli list, saved with 1_DealwithTimings.ipynb\n",
    "import pickle\n",
    "with open('efl/fd.pkl','rb') as f:\n",
    "    fd=pickle.load(f)"
   ]
  },
  {
   "cell_type": "code",
   "execution_count": 51,
   "metadata": {},
   "outputs": [],
   "source": [
    "# build a dict of visuals:\n",
    "vstims=dict()\n",
    "sstims=dict()\n",
    "radialFreq=6\n",
    "angleFreq=6\n",
    "checkerSize=1.5\n",
    "cicleSize=checkerSize/12*2\n",
    "stimSize=checkerSize/12*1.5\n",
    "\n",
    "\n",
    "import numpy as np\n",
    "\n",
    "\n",
    "checkr=visual.RadialStim(win, tex='sqrXsqr', ori=0, size=checkerSize, \n",
    "                     visibleWedge=(0, 181),\n",
    "                     angularCycles=angleFreq, radialCycles=radialFreq)\n",
    "\n",
    "\n",
    "checkrf=visual.RadialStim(win, tex='sqrXsqr', ori=-90, size=checkerSize, \n",
    "                     visibleWedge=(90, 271),\n",
    "                     angularCycles=angleFreq, radialCycles=radialFreq)\n",
    "\n",
    "\n",
    "checkl=visual.RadialStim(win, tex='sqrXsqr', ori=0, size=1.5, \n",
    "                     visibleWedge=(180, 360),\n",
    "                     angularCycles=angleFreq, radialCycles=radialFreq)\n",
    "\n",
    "\n",
    "checklf=visual.RadialStim(win, tex='sqrXsqr', ori=90, size=1.5, \n",
    "                     visibleWedge=(90, 271),\n",
    "                     angularCycles=angleFreq, radialCycles=radialFreq)\n",
    "\n",
    "circ=visual.Circle(win, radius=cicleSize, fillColor=[0,0,0], lineColor=[0, 0, 0])\n",
    "\n",
    "fa=.1;fb=1\n",
    "fixationVert = [(fa, fa),(fa, fb),(-fa, fb),(-fa, fa),(-fb, fa),(-fb, -fa),\n",
    "                (-fa, -fa),(-fa, -fb),(fa, -fb),(fa, -fa),(fb, -fa), (fb, fa)]\n",
    "fixation = visual.ShapeStim(win, vertices=fixationVert, fillColor='red', \n",
    "                         size=.025, ori=0, lineColor='red')\n",
    "\n",
    "\n",
    "vstims['r']=[checkr, circ, fixation]\n",
    "vstims['rf']=[checkrf, circ, fixation]\n",
    "vstims['l']=[checkl, circ, fixation]\n",
    "vstims['lf']=[checklf, circ, fixation]\n",
    "\n",
    "\n",
    "stimcirc1=visual.Circle(win, radius=stimSize, fillColor=[1, 1, 1], lineColor=[1, 1, 1])\n",
    "stimcirc2=visual.Circle(win, radius=stimSize/1.5*1.37, fillColor=[0, 0, 0], lineColor=[1, 1, 1])\n",
    "\n",
    "\n",
    "#al=visual.ImageStim(win, image=u'stims/arrow.png')\n",
    "\n",
    "arrowPinch=1.75;\n",
    "arrowVert = [(-0.7071, -0.7071/arrowPinch), (0, -0.7071/arrowPinch),\n",
    "              (0, -1), (1, 0),\n",
    "              (0, 1),(0, 0.7071/arrowPinch), \n",
    "              (-0.7071, 0.7071/arrowPinch)]\n",
    "\n",
    "arrowl = visual.ShapeStim(win, vertices=arrowVert, fillColor='white', \n",
    "                         size=.095, ori=180, lineColor='white')\n",
    "\n",
    "arrowr = visual.ShapeStim(win, vertices=arrowVert, fillColor='white', \n",
    "                         size=.095, ori=0, lineColor='white')\n",
    "\n",
    "arrowlr = visual.ShapeStim(win, vertices=arrowVert, fillColor='darkred', \n",
    "                         size=.095, ori=180, lineColor='darkred')\n",
    "\n",
    "arrowrr = visual.ShapeStim(win, vertices=arrowVert, fillColor='darkred', \n",
    "                         size=.095, ori=0, lineColor='darkred')\n",
    "\n",
    "\n",
    "sstims['pre']=[stimcirc1, stimcirc2, fixation]\n",
    "sstims['fix']=[fixation]\n",
    "\n",
    "sstims['al']=[stimcirc1, stimcirc2, arrowl]\n",
    "sstims['ar']=[stimcirc1, stimcirc2, arrowr]\n",
    "sstims['alr']=[stimcirc1, stimcirc2, arrowlr]\n",
    "sstims['arr']=[stimcirc1, stimcirc2, arrowrr]\n",
    "\n"
   ]
  },
  {
   "cell_type": "markdown",
   "metadata": {},
   "source": [
    "# Visual Window initialization:"
   ]
  },
  {
   "cell_type": "code",
   "execution_count": 37,
   "metadata": {},
   "outputs": [],
   "source": [
    "from psychopy import visual"
   ]
  },
  {
   "cell_type": "code",
   "execution_count": 38,
   "metadata": {},
   "outputs": [],
   "source": [
    "win=visual.Window(size=(800,600), fullscr=False, allowGUI=True, winType='pyglet')"
   ]
  },
  {
   "cell_type": "markdown",
   "metadata": {},
   "source": [
    "# Eyes closed stimulus:"
   ]
  },
  {
   "cell_type": "code",
   "execution_count": 52,
   "metadata": {},
   "outputs": [
    {
     "data": {
      "text/plain": [
       "253.1520709991455"
      ]
     },
     "execution_count": 52,
     "metadata": {},
     "output_type": "execute_result"
    }
   ],
   "source": [
    "eyesclosed = visual.TextStim(win, '\\t\\tEyes Closed\\n\\n20 seconds, do not count!',\n",
    "                       color=(1, 1, 1), colorSpace='rgb')\n",
    "eyesclosed.draw()\n",
    "win.flip()"
   ]
  },
  {
   "cell_type": "code",
   "execution_count": 53,
   "metadata": {},
   "outputs": [
    {
     "name": "stdout",
     "output_type": "stream",
     "text": [
      "0.0133590698242\n"
     ]
    }
   ],
   "source": [
    "import time\n",
    "b=time.time()\n",
    "[item.draw() for item in vstims['r'] + sstims['arr']]\n",
    "print(time.time()-b)"
   ]
  },
  {
   "cell_type": "code",
   "execution_count": 54,
   "metadata": {},
   "outputs": [
    {
     "data": {
      "text/plain": [
       "259.37914204597473"
      ]
     },
     "execution_count": 54,
     "metadata": {},
     "output_type": "execute_result"
    }
   ],
   "source": [
    "win.flip()"
   ]
  },
  {
   "cell_type": "markdown",
   "metadata": {},
   "source": [
    "# sooo\n",
    "\n",
    "1) Loopup table for vis stimulus + draw em + send over event(if any) to evhandler\n",
    "\n",
    "2) lookup which stop things to draw + draw them\n",
    "\n",
    "3) send over which frame we're currently in for audio to separate audioprocess\n",
    "\n",
    "4) AWAIT the win.flip (16 msec break)\n"
   ]
  },
  {
   "cell_type": "markdown",
   "metadata": {},
   "source": [
    "# read in the necessary stuff from one of the param_ files:"
   ]
  },
  {
   "cell_type": "code",
   "execution_count": 124,
   "metadata": {},
   "outputs": [],
   "source": [
    "import re\n",
    "import random\n",
    "\n",
    "tmp_rand_number = random.randint(1,501)\n",
    "\n",
    "with open('efl/param_%d.txt' % (tmp_rand_number )) as f:\n",
    "    matrix=[[float(s) for s in re.findall(r'-?\\d+\\.?\\d*', line)] for line in f]\n",
    "\n",
    "number, stopgo, wait, tmp1, tmp2 = zip(*matrix)"
   ]
  },
  {
   "cell_type": "markdown",
   "metadata": {},
   "source": [
    "# set up the staircase:"
   ]
  },
  {
   "cell_type": "code",
   "execution_count": 136,
   "metadata": {},
   "outputs": [],
   "source": [
    "from psychopy import data"
   ]
  },
  {
   "cell_type": "code",
   "execution_count": 211,
   "metadata": {},
   "outputs": [],
   "source": [
    "conditions = [\n",
    "    {'label':'staircase1', 'startVal':100, 'stepSizes':50, 'nTrials':10, 'nUp':1, 'nDown':1, 'applyInitialRule':False, 'stepType':'lin'},\n",
    "    {'label':'staircase2', 'startVal':150, 'stepSizes':50, 'nTrials':10, 'nUp':1, 'nDown':1, 'applyInitialRule':False, 'stepType':'lin'},\n",
    "    {'label':'staircase3', 'startVal':200, 'stepSizes':50, 'nTrials':10, 'nUp':1, 'nDown':1, 'applyInitialRule':False, 'stepType':'lin'},\n",
    "    {'label':'staircase4', 'startVal':250, 'stepSizes':50, 'nTrials':10, 'nUp':1, 'nDown':1, 'applyInitialRule':False, 'stepType':'lin'}\n",
    "]\n",
    "myMultiStair = data.MultiStairHandler(stairType='simple', method='random', conditions=conditions, nTrials=40)\n",
    "\n",
    "# usage -- use the starcase to loop over the stop trials:\n",
    "# myMultiStair.next()\n",
    "# myMultiStair.addResponse(1)\n",
    "#\n",
    "# getting intensities (for later to average over):\n",
    "#\n",
    "# myMultiStair.staircases[3].intensities"
   ]
  },
  {
   "cell_type": "code",
   "execution_count": 161,
   "metadata": {},
   "outputs": [
    {
     "ename": "SyntaxError",
     "evalue": "invalid syntax (<ipython-input-161-3ba57611fd3e>, line 3)",
     "output_type": "error",
     "traceback": [
      "\u001b[0;36m  File \u001b[0;32m\"<ipython-input-161-3ba57611fd3e>\"\u001b[0;36m, line \u001b[0;32m3\u001b[0m\n\u001b[0;31m    def flipper:\u001b[0m\n\u001b[0m               ^\u001b[0m\n\u001b[0;31mSyntaxError\u001b[0m\u001b[0;31m:\u001b[0m invalid syntax\n"
     ]
    }
   ],
   "source": [
    "import trollius as asyncio\n",
    "from trollius import From\n",
    "\n",
    "from psychopy import visual, event\n",
    "\n",
    "# load the vis table somewhere here - big mem space (.csv?)\n",
    "\n",
    "\n",
    "\n",
    "# load in the table that tells me all the stop signal stuff (.csv?)\n",
    "\n",
    "\n",
    "\n",
    "# init the window..\n",
    "\n",
    "# draw all the stimuli for both vis and stop already (and store them)\n",
    "\n",
    "# load in the audio\n",
    "\n",
    "# curr frame = 0\n",
    "# coroutine:\n",
    "\n",
    "\n",
    "@asyncio.coroutine\n",
    "def handle_visual():\n",
    "    \n",
    "    # do for loop for TIME (I suppose)\n",
    "    \n",
    "    # check vis table + draw stimuli\n",
    "    # if there's an event - send to sync\n",
    "    \n",
    "    # check stimulus for stop + draw stimuli\n",
    "    \n",
    "    # pass on current time for audio presentation (this is another process)\n",
    "    \n",
    "    # AWAIT (!) -- to flip the window\n",
    "    \n",
    "\n",
    "\n",
    "    \n",
    "@asyncio.coroutine\n",
    "def handle_gonogo():\n",
    "\n",
    "    # while loop trials\n",
    "    \n",
    "    # reset clock\n",
    "    # win list = PREP\n",
    "    \n",
    "    # while + wait time (rounded) + await:\n",
    "    ## async sleep\n",
    "    \n",
    "    # figure out stop or go, left or right:\n",
    "    \n",
    "    # win list = LA, RA...\n",
    "    \n",
    "    # KPress=False\n",
    "\n",
    "    \n",
    "    # reset clock2\n",
    "    # while time < 1 sec:\n",
    "    \n",
    "        # if key_not_pressed:\n",
    "        # if stop:\n",
    "            # t < val (see my notes)\n",
    "        # if go:\n",
    "            # t < 1 (see my notes)\n",
    "    \n",
    "        # check keys (seet RT and which keys)\n",
    "        # send event(s) (keys and events)\n",
    "        \n",
    "        ## async sleep (0)\n",
    "        \n",
    "    # logging the keys/(pre-analyze for trial type)\n",
    "    \n",
    "    # reset clock third time\n",
    "    # show fix\n",
    "    # while time<Tau\n",
    "    ## async sleep\n",
    "    \n",
    "    \n",
    "# start the main ev loop, see example Trollius in Python 2        \n",
    "        \n",
    "    \n",
    "        \n",
    "        \n",
    "\n",
    "loop = asyncio.get_event_loop()\n",
    "tasks = [\n",
    "    asyncio.async(handle_visual()),\n",
    "    asyncio.async(handle_gonogo()),\n",
    "    ]\n",
    "loop.run_until_complete(asyncio.wait(tasks))\n",
    "loop.close()\n",
    "    \n",
    "    \n",
    "    \n",
    "    \n",
    "    "
   ]
  },
  {
   "cell_type": "code",
   "execution_count": 13,
   "metadata": {},
   "outputs": [
    {
     "ename": "NameError",
     "evalue": "name 'numel' is not defined",
     "output_type": "error",
     "traceback": [
      "\u001b[0;31m---------------------------------------------------------------------------\u001b[0m",
      "\u001b[0;31mNameError\u001b[0m                                 Traceback (most recent call last)",
      "\u001b[0;32m<ipython-input-13-1c364b1fe16b>\u001b[0m in \u001b[0;36m<module>\u001b[0;34m()\u001b[0m\n\u001b[0;32m----> 1\u001b[0;31m \u001b[0mnumel\u001b[0m\u001b[0;34m(\u001b[0m\u001b[0mfd\u001b[0m\u001b[0;34m)\u001b[0m\u001b[0;34m\u001b[0m\u001b[0m\n\u001b[0m",
      "\u001b[0;31mNameError\u001b[0m: name 'numel' is not defined"
     ]
    }
   ],
   "source": [
    "numel(fd)"
   ]
  },
  {
   "cell_type": "code",
   "execution_count": null,
   "metadata": {},
   "outputs": [],
   "source": [
    "while continueRoutine is False:\n",
    "    # async yield here\n",
    "    \n",
    "\n",
    "# ok, we can proceed -- the clock has been set.\n",
    "\n",
    "while cl.getTime() < 0.5:\n",
    "    st=sstims['fix']\n",
    "    \n",
    "# go to second stage\n",
    "# functions to be evaluated:\n",
    "# initialize a new clock\n",
    "# reset the continueRoutine\n",
    "\n",
    "while continueRoutine is False:\n",
    "    # async wait... let the flipper set the new clock.\n",
    "    \n",
    "\n",
    "# ok, proceed here..\n",
    "# init the variables here..\n",
    "# call event.getKeys() to clear things up\n",
    "# obtain tvalue from staircase\n",
    "currentTime = 0.0\n",
    "responded=False\n",
    "allResponses=[]\n",
    "numberOfResponses=0\n",
    "tooManyResponses=False\n",
    "trialHandled=False\n",
    "while currentTime < 1.0:\n",
    "    \n",
    "    currentTime = cl.getTime()\n",
    "    # taking care of visual business\n",
    "    st=sstims['al']\n",
    "\n",
    "    evs=event.getKeys(timeStamped=cl)\n",
    "    if len(evs)>0:\n",
    "        buttonsPressed, timesPressed = zip(*evs)\n",
    "        # it's highly unlikely that two buttons are pressed in a signle\n",
    "        # frame, but control for that anyway.\n",
    "        allResponses.append((buttonsPressed[0], timesPressed[0]))\n",
    "        numberOfResponses += 1\n",
    "        # LOG this event... (i.e. send trigger)\n",
    "        \n",
    "    # once a button is pressed -- display fixation point again.\n",
    "    if len(allResponses) > 0 and not responded:\n",
    "        # 'clear' the visual window:\n",
    "        st=sstims['fix']\n",
    "        responded=True\n",
    "    \n",
    "    # if it's a stop trial, then make arrow red after X time\n",
    "    if trialType is STOP and not responded and currentTime > StaircaseTime:\n",
    "        st=sstims['alr']\n",
    "\n",
    "        \n",
    "        \n",
    "    # taking care of the button press itself:\n",
    "    if buttonpressed and not trialHandled:\n",
    "        RTime = allResponses[0][1]\n",
    "\n",
    "        if RTime < 0.05\n",
    "            trialOutcome = 'PressedTooSoon'\n",
    "            trialHandled = True\n",
    "       \n",
    "        if trialType is STOP and not trialHandled:\n",
    "            trialOutcome = 'ErrorCommission'\n",
    "            trialHandled = True\n",
    "            \n",
    "        elif trialType is GO and not trialHandled:\n",
    "            trialOutcome = 'Go'\n",
    "            trialHandled = True\n",
    "        \n",
    "    # to let the screen flip...\n",
    "    yield From(asyncio.sleep(0))\n",
    "    \n",
    "            \n",
    "\n",
    "if not buttonpressed and trialType = GO and not trialHandled:\n",
    "    trialOutcome = 'ErrorOmission'\n",
    "    trialHandled = True\n",
    "\n",
    "if not buttonpressed and trialType = STOP and not trialHandled:\n",
    "    trialOutcome = 'Stop'\n",
    "    trialHandled = True\n",
    "    \n",
    "if numberOfResponses > 1:\n",
    "    tooManyResponses = True\n",
    "            \n",
    "\n",
    "# let winflipper make new clock\n",
    "while continueRoutine is False:\n",
    "    yield From(asyncio.sleep(0))\n",
    "    \n",
    "while cl.getTime() < ISITime:\n",
    "    st=sstims['fix']\n",
    "\n",
    "    \n",
    "\n",
    "# on to the next trial...\n",
    "\n",
    "\n",
    "\n",
    "            \n",
    "            \n"
   ]
  },
  {
   "cell_type": "code",
   "execution_count": 59,
   "metadata": {},
   "outputs": [],
   "source": [
    "win.close()"
   ]
  },
  {
   "cell_type": "code",
   "execution_count": 45,
   "metadata": {},
   "outputs": [],
   "source": [
    "from psychopy import clock"
   ]
  },
  {
   "cell_type": "code",
   "execution_count": 40,
   "metadata": {},
   "outputs": [],
   "source": [
    "cl1 = clock.Clock()"
   ]
  },
  {
   "cell_type": "code",
   "execution_count": 41,
   "metadata": {},
   "outputs": [
    {
     "data": {
      "text/plain": [
       "7.659756898880005"
      ]
     },
     "execution_count": 41,
     "metadata": {},
     "output_type": "execute_result"
    }
   ],
   "source": [
    "cl1.getTime()"
   ]
  },
  {
   "cell_type": "code",
   "execution_count": 22,
   "metadata": {},
   "outputs": [],
   "source": [
    "returns=[]"
   ]
  },
  {
   "cell_type": "code",
   "execution_count": 46,
   "metadata": {},
   "outputs": [],
   "source": [
    "def put_in_returns(tmp):\n",
    "    cl1=clock.Clock()\n",
    "    cl1.getTime()\n",
    "    tmp.append(cl1)"
   ]
  },
  {
   "cell_type": "code",
   "execution_count": 51,
   "metadata": {},
   "outputs": [],
   "source": [
    "put_in_returns(tmp)"
   ]
  },
  {
   "cell_type": "code",
   "execution_count": 52,
   "metadata": {},
   "outputs": [],
   "source": [
    "cl1=tmp.pop()"
   ]
  },
  {
   "cell_type": "code",
   "execution_count": 53,
   "metadata": {},
   "outputs": [
    {
     "data": {
      "text/plain": [
       "4.400328159332275"
      ]
     },
     "execution_count": 53,
     "metadata": {},
     "output_type": "execute_result"
    }
   ],
   "source": [
    "cl1.getTime()"
   ]
  },
  {
   "cell_type": "code",
   "execution_count": null,
   "metadata": {},
   "outputs": [],
   "source": []
  }
 ],
 "metadata": {
  "kernelspec": {
   "display_name": "Python 2",
   "language": "python",
   "name": "python2"
  },
  "language_info": {
   "codemirror_mode": {
    "name": "ipython",
    "version": 2
   },
   "file_extension": ".py",
   "mimetype": "text/x-python",
   "name": "python",
   "nbconvert_exporter": "python",
   "pygments_lexer": "ipython2",
   "version": "2.7.13"
  }
 },
 "nbformat": 4,
 "nbformat_minor": 2
}
