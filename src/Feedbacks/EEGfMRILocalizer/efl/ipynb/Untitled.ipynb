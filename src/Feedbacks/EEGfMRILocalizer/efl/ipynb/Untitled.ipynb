{
 "cells": [
  {
   "cell_type": "code",
   "execution_count": 4,
   "metadata": {},
   "outputs": [],
   "source": [
    "from psychopy import event"
   ]
  },
  {
   "cell_type": "code",
   "execution_count": 3,
   "metadata": {},
   "outputs": [
    {
     "data": {
      "text/plain": [
       "[]"
      ]
     },
     "execution_count": 3,
     "metadata": {},
     "output_type": "execute_result"
    }
   ],
   "source": [
    "event.getKeys()"
   ]
  },
  {
   "cell_type": "code",
   "execution_count": 2,
   "metadata": {},
   "outputs": [],
   "source": [
    "from psychopy import visual"
   ]
  },
  {
   "cell_type": "code",
   "execution_count": 12,
   "metadata": {},
   "outputs": [],
   "source": [
    "win=visual.Window(allowGUI=True, fullscr=False)"
   ]
  },
  {
   "cell_type": "code",
   "execution_count": 10,
   "metadata": {},
   "outputs": [
    {
     "data": {
      "text/plain": [
       "[]"
      ]
     },
     "execution_count": 10,
     "metadata": {},
     "output_type": "execute_result"
    }
   ],
   "source": [
    "event.getKeys()"
   ]
  },
  {
   "cell_type": "code",
   "execution_count": 13,
   "metadata": {},
   "outputs": [],
   "source": [
    "def func(a):\n",
    "    print a"
   ]
  },
  {
   "cell_type": "code",
   "execution_count": 18,
   "metadata": {},
   "outputs": [],
   "source": [
    "win.callOnFlip(func, 3)"
   ]
  },
  {
   "cell_type": "code",
   "execution_count": 19,
   "metadata": {},
   "outputs": [
    {
     "name": "stdout",
     "output_type": "stream",
     "text": [
      "1\n",
      "2\n",
      "3\n"
     ]
    },
    {
     "data": {
      "text/plain": [
       "158.90969610214233"
      ]
     },
     "execution_count": 19,
     "metadata": {},
     "output_type": "execute_result"
    }
   ],
   "source": [
    "win.flip()"
   ]
  },
  {
   "cell_type": "code",
   "execution_count": null,
   "metadata": {},
   "outputs": [
    {
     "name": "stdout",
     "output_type": "stream",
     "text": [
      "('Received message:', 'Hello Johan!')\n",
      "('Received message:', 'Hello Johan!')\n",
      "('Received message:', 'Hello Johan!')\n",
      "('Received message:', 'Hello Johan!')\n",
      "('Received message:', '3')\n",
      "('Received message:', '3')\n",
      "('Received message:', '3')\n",
      "('Received message:', '4')\n",
      "('Received message:', '4')\n",
      "('Received message:', '4')\n",
      "('Received message:', '4')\n",
      "('Received message:', '4')\n",
      "('Received message:', '4')\n",
      "('Received message:', '10')\n",
      "('Received message:', '10')\n",
      "('Received message:', '10')\n",
      "('Received message:', '4')\n",
      "('Received message:', '4')\n",
      "('Received message:', '4')\n",
      "('Received message:', '4')\n",
      "('Received message:', '101')\n",
      "('Received message:', '133')\n",
      "('Received message:', '83')\n",
      "('Received message:', '83')\n",
      "('Received message:', '83')\n",
      "('Received message:', '83')\n",
      "('Received message:', '83')\n",
      "('Received message:', '83')\n",
      "('Received message:', '83')\n",
      "('Received message:', '83')\n",
      "('Received message:', '83')\n",
      "('Received message:', '83')\n",
      "('Received message:', '83')\n",
      "('Received message:', '83')\n",
      "('Received message:', '83')\n",
      "('Received message:', '83')\n",
      "('Received message:', '83')\n",
      "('Received message:', '83')\n",
      "('Received message:', '83')\n",
      "('Received message:', '81')\n",
      "('Received message:', '81')\n",
      "('Received message:', '82')\n",
      "('Received message:', '84')\n",
      "('Received message:', '86')\n",
      "('Received message:', '86')\n",
      "('Received message:', '86')\n",
      "('Received message:', '86')\n",
      "('Received message:', '86')\n",
      "('Received message:', '86')\n",
      "('Received message:', '86')\n",
      "('Received message:', '86')\n",
      "('Received message:', '86')\n",
      "('Received message:', '86')\n",
      "('Received message:', '86')\n",
      "('Received message:', '86')\n",
      "('Received message:', '86')\n",
      "('Received message:', '86')\n",
      "('Received message:', '86')\n",
      "('Received message:', '86')\n",
      "('Received message:', '86')\n",
      "('Received message:', '86')\n",
      "('Received message:', '86')\n",
      "('Received message:', '86')\n",
      "('Received message:', '86')\n",
      "('Received message:', '86')\n",
      "('Received message:', '86')\n",
      "('Received message:', '86')\n",
      "('Received message:', '86')\n",
      "('Received message:', '86')\n",
      "('Received message:', '86')\n",
      "('Received message:', '86')\n",
      "('Received message:', '86')\n",
      "('Received message:', '86')\n",
      "('Received message:', '86')\n",
      "('Received message:', '84')\n",
      "('Received message:', '84')\n",
      "('Received message:', '84')\n",
      "('Received message:', '84')\n",
      "('Received message:', '84')\n",
      "('Received message:', '84')\n",
      "('Received message:', '84')\n",
      "('Received message:', '84')\n",
      "('Received message:', '84')\n",
      "('Received message:', '84')\n",
      "('Received message:', '84')\n",
      "('Received message:', '84')\n",
      "('Received message:', '84')\n",
      "('Received message:', '84')\n",
      "('Received message:', '84')\n",
      "('Received message:', '84')\n",
      "('Received message:', '84')\n",
      "('Received message:', '84')\n",
      "('Received message:', '84')\n",
      "('Received message:', '84')\n",
      "('Received message:', '84')\n",
      "('Received message:', '84')\n",
      "('Received message:', '84')\n",
      "('Received message:', '134')\n",
      "('Received message:', '131')\n",
      "('Received message:', '131')\n",
      "('Received message:', '131')\n",
      "('Received message:', '131')\n",
      "('Received message:', '132')\n",
      "('Received message:', '132')\n",
      "('Received message:', '132')\n",
      "('Received message:', '132')\n",
      "('Received message:', '132')\n"
     ]
    }
   ],
   "source": [
    "import socket\n",
    "    \n",
    "UDP_IP = '127.0.0.1' # socket.gethostname()\n",
    "UDP_PORT = 6050\n",
    "    \n",
    "s = socket.socket(socket.AF_INET, socket.SOCK_DGRAM) \n",
    "s.bind((UDP_IP, UDP_PORT))\n",
    "    \n",
    "while True:\n",
    "    package, address = s.recvfrom(1024) # buffer size is 1024 bytes\n",
    "    print(\"Received message:\", package)"
   ]
  },
  {
   "cell_type": "code",
   "execution_count": 1,
   "metadata": {},
   "outputs": [],
   "source": [
    "import socket\n"
   ]
  },
  {
   "cell_type": "code",
   "execution_count": 2,
   "metadata": {},
   "outputs": [],
   "source": [
    "UDP_IP = socket.gethostname()\n"
   ]
  },
  {
   "cell_type": "code",
   "execution_count": 3,
   "metadata": {},
   "outputs": [
    {
     "data": {
      "text/plain": [
       "'tron'"
      ]
     },
     "execution_count": 3,
     "metadata": {},
     "output_type": "execute_result"
    }
   ],
   "source": [
    "UDP_IP"
   ]
  },
  {
   "cell_type": "code",
   "execution_count": null,
   "metadata": {},
   "outputs": [],
   "source": []
  }
 ],
 "metadata": {
  "kernelspec": {
   "display_name": "Python 2",
   "language": "python",
   "name": "python2"
  },
  "language_info": {
   "codemirror_mode": {
    "name": "ipython",
    "version": 2
   },
   "file_extension": ".py",
   "mimetype": "text/x-python",
   "name": "python",
   "nbconvert_exporter": "python",
   "pygments_lexer": "ipython2",
   "version": "2.7.14"
  }
 },
 "nbformat": 4,
 "nbformat_minor": 2
}
