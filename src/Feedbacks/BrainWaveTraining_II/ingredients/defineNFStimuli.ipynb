{
 "cells": [
  {
   "cell_type": "code",
   "execution_count": 2,
   "metadata": {},
   "outputs": [],
   "source": [
    "# getting the window right:\n",
    "from psychopy import visual\n",
    "# getting the window\n",
    "win=visual.Window(size=(1400,900), fullscr=False, screen=0, allowGUI=True, winType='pyglet', waitBlanking=False)"
   ]
  },
  {
   "cell_type": "code",
   "execution_count": 505,
   "metadata": {},
   "outputs": [],
   "source": [
    "# making the dashed line -- for the stimulus, we can set autodraw optially to true for this one.\n",
    "def make_dashed(win, b, e, N, d):\n",
    "    lines=[]\n",
    "    b=(float(b[0]),float(b[1]))\n",
    "    e=(float(e[0]),float(e[1]))\n",
    "    diff=(e[0]-b[0], e[1]-b[1])\n",
    "    # print(diff/float(N)*d)\n",
    "    # scaling:\n",
    "    if b[0]==0 and e[0]==0:\n",
    "        scalingx=0\n",
    "    else:\n",
    "        scalingx = (e[0]-b[0]) / (e[0] - (e[0]-b[0])/float(N)*(1-d) - b[0])\n",
    "    if b[1]==0 and e[1]==0:\n",
    "        scalingy=0\n",
    "    else:\n",
    "        scalingy = (e[1]-b[1]) / (e[1] - (e[1]-b[1])/float(N)*(1-d) - b[1])\n",
    "\n",
    "        \n",
    "    for i in range(N):\n",
    "        #print('i='+str(i))\n",
    "        #print(N)\n",
    "        #print(float(1+i))\n",
    "        xposb = b[0] + (e[0]-b[0])/float(N)*float(i)*scalingx\n",
    "        yposb = b[1] + (e[1]-b[1])/float(N)*float(i)*scalingy\n",
    "        xpose = xposb + (e[0]-b[0])/float(N)*d*scalingx\n",
    "        ypose = yposb + (e[1]-b[1])/float(N)*d*scalingy\n",
    "\n",
    "        #xpose = xposb+0.1\n",
    "        # ypose = yposb+0.1\n",
    "        # print([xposb, yposb, xpose, ypose])\n",
    "        \n",
    "        lines.append(visual.Line(win, start=(xposb, yposb), end=(xpose, ypose)))\n",
    "    return lines\n",
    "        \n",
    "\n",
    "lines=make_dashed(win, (-1, 0), (1, 0), 20, 0.5)"
   ]
  },
  {
   "cell_type": "code",
   "execution_count": 506,
   "metadata": {},
   "outputs": [],
   "source": [
    "# background\n",
    "background=visual.Rect(win, width=2, height=2,fillColor=[-0.1,-0.1,-0.1],lineWidth=0)\n",
    "\n",
    "# arrow up\n",
    "stimSize=0.25\n",
    "arrowPinch=1.75;\n",
    "arrowVert = [(-0.7071, -0.7071/arrowPinch), (0, -0.7071/arrowPinch),\n",
    "              (0, -1), (1, 0),\n",
    "              (0, 1),(0, 0.7071/arrowPinch), \n",
    "              (-0.7071, 0.7071/arrowPinch)]\n",
    "arrowup = visual.ShapeStim(win, vertices=arrowVert, fillColor='white', \n",
    "                             size=stimSize/1.973, ori=-90, lineColor='white', autoLog=False)\n",
    "\n",
    "# feedback 'cross' (blue)\n",
    "fa=.1;fb=1\n",
    "cfbVert = [(fa, fa),(fa, fb),(-fa, fb),(-fa, fa),(-fb, fa),(-fb, -fa),\n",
    "                    (-fa, -fa),(-fa, -fb),(fa, -fb),(fa, -fa),(fb, -fa), (fb, fa)]\n",
    "cfb = visual.ShapeStim(win, vertices=cfbVert, fillColor='lightblue', \n",
    "                             size=stimSize/7.5, ori=45, lineColor='blue', autoLog=False)\n",
    "\n",
    "# do-not-regulate arrow\n",
    "fa=0.25;fb=1\n",
    "donotregVert = [(fa, fa),(fa, fb),(-fa, fb),(-fa, fa),(-fb, fa),(-fb, -fa),\n",
    "                    (-fa, -fa),(-fa, -fb),(fa, -fb),(fa, -fa),(fb, -fa), (fb, fa)]\n",
    "donotreg = visual.ShapeStim(win, vertices=donotregVert, fillColor='white', \n",
    "                             size=stimSize/2.5, ori=45, lineColor='white', autoLog=False)"
   ]
  },
  {
   "cell_type": "code",
   "execution_count": 507,
   "metadata": {},
   "outputs": [],
   "source": [
    "# this emulates a NF trace...\n",
    "import random\n",
    "\n",
    "ypos=[0.6+random.random()*0.2 for i in range(100)]\n",
    "times=[1+random.random()/4 for i in range(100)]\n",
    "tpos=[sum(times[:-i-1:-1]) for i in range(len(times))]\n",
    "\n",
    "tpos_max = max(tpos)\n",
    "xpos = [-1 + 2*t/tpos_max for t in tpos]\n",
    "\n",
    "nf_vertices = []\n",
    "for i, t in enumerate(ypos):\n",
    "    nf_vertices.append((xpos[i], ypos[i]))\n",
    "\n",
    "nf_line = visual.ShapeStim(win, vertices=nf_vertices, closeShape=False, lineColor='lightblue')"
   ]
  },
  {
   "cell_type": "code",
   "execution_count": 508,
   "metadata": {},
   "outputs": [],
   "source": [
    "# this puts it all together\n",
    "items=[background, nf_line, arrowup, donotreg]\n",
    "for l in lines:\n",
    "    items.append(l)\n",
    "items.append(cfb)"
   ]
  },
  {
   "cell_type": "code",
   "execution_count": 509,
   "metadata": {},
   "outputs": [
    {
     "data": {
      "text/plain": [
       "[<psychopy.visual.rect.Rect at 0x7fe09be57fd0>,\n",
       " <psychopy.visual.shape.ShapeStim at 0x7fe09f4a2390>,\n",
       " <psychopy.visual.shape.ShapeStim at 0x7fe09f4a2490>,\n",
       " <psychopy.visual.shape.ShapeStim at 0x7fe09c129d50>,\n",
       " <psychopy.visual.line.Line at 0x7fe09c132d90>,\n",
       " <psychopy.visual.line.Line at 0x7fe09c132e10>,\n",
       " <psychopy.visual.line.Line at 0x7fe09c132f50>,\n",
       " <psychopy.visual.line.Line at 0x7fe09c132dd0>,\n",
       " <psychopy.visual.line.Line at 0x7fe09c132e50>,\n",
       " <psychopy.visual.line.Line at 0x7fe09c132fd0>,\n",
       " <psychopy.visual.line.Line at 0x7fe09c132e90>,\n",
       " <psychopy.visual.line.Line at 0x7fe09c132ed0>,\n",
       " <psychopy.visual.line.Line at 0x7fe09c132f90>,\n",
       " <psychopy.visual.line.Line at 0x7fe09c132f10>,\n",
       " <psychopy.visual.line.Line at 0x7fe09c129250>,\n",
       " <psychopy.visual.line.Line at 0x7fe09be83210>,\n",
       " <psychopy.visual.line.Line at 0x7fe09be832d0>,\n",
       " <psychopy.visual.line.Line at 0x7fe09be830d0>,\n",
       " <psychopy.visual.line.Line at 0x7fe09be83190>,\n",
       " <psychopy.visual.line.Line at 0x7fe09be83090>,\n",
       " <psychopy.visual.line.Line at 0x7fe09be834d0>,\n",
       " <psychopy.visual.line.Line at 0x7fe09be83510>,\n",
       " <psychopy.visual.line.Line at 0x7fe09be83550>,\n",
       " <psychopy.visual.line.Line at 0x7fe09be83590>,\n",
       " <psychopy.visual.shape.ShapeStim at 0x7fe09f5062d0>]"
      ]
     },
     "execution_count": 509,
     "metadata": {},
     "output_type": "execute_result"
    }
   ],
   "source": [
    "items"
   ]
  },
  {
   "cell_type": "code",
   "execution_count": 510,
   "metadata": {},
   "outputs": [
    {
     "name": "stdout",
     "output_type": "stream",
     "text": [
      "[ 1.  1.]\n",
      "[ 1.  1.]\n",
      "[ 0.12671059  0.12671059]\n",
      "[ 0.1  0.1]\n",
      "[ 1.  1.]\n",
      "[ 1.  1.]\n",
      "[ 1.  1.]\n",
      "[ 1.  1.]\n",
      "[ 1.  1.]\n",
      "[ 1.  1.]\n",
      "[ 1.  1.]\n",
      "[ 1.  1.]\n",
      "[ 1.  1.]\n",
      "[ 1.  1.]\n",
      "[ 1.  1.]\n",
      "[ 1.  1.]\n",
      "[ 1.  1.]\n",
      "[ 1.  1.]\n",
      "[ 1.  1.]\n",
      "[ 1.  1.]\n",
      "[ 1.  1.]\n",
      "[ 1.  1.]\n",
      "[ 1.  1.]\n",
      "[ 1.  1.]\n",
      "[ 0.03333333  0.03333333]\n"
     ]
    }
   ],
   "source": [
    "for i in items:\n",
    "    print(i.size)"
   ]
  },
  {
   "cell_type": "code",
   "execution_count": 512,
   "metadata": {},
   "outputs": [],
   "source": [
    "# scale it:\n",
    "for i in items:\n",
    "    oldsize=i.size\n",
    "    i.setSize((oldsize[0]*0.5, oldsize[1]*0.5))\n"
   ]
  },
  {
   "cell_type": "code",
   "execution_count": 514,
   "metadata": {},
   "outputs": [],
   "source": [
    "for i in items:\n",
    "    i.draw()"
   ]
  },
  {
   "cell_type": "code",
   "execution_count": 515,
   "metadata": {},
   "outputs": [],
   "source": [
    "win.flip()"
   ]
  },
  {
   "cell_type": "code",
   "execution_count": null,
   "metadata": {},
   "outputs": [],
   "source": []
  }
 ],
 "metadata": {
  "kernelspec": {
   "display_name": "Python 2",
   "language": "python",
   "name": "python2"
  },
  "language_info": {
   "codemirror_mode": {
    "name": "ipython",
    "version": 2
   },
   "file_extension": ".py",
   "mimetype": "text/x-python",
   "name": "python",
   "nbconvert_exporter": "python",
   "pygments_lexer": "ipython2",
   "version": "2.7.13"
  }
 },
 "nbformat": 4,
 "nbformat_minor": 2
}
