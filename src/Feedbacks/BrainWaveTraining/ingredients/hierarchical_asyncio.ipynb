{
 "cells": [
  {
   "cell_type": "code",
   "execution_count": 1,
   "metadata": {},
   "outputs": [],
   "source": [
    "import trollius as asyncio\n",
    "from trollius import From\n",
    "import logging\n",
    "import time\n",
    "\n",
    "\n",
    "\n",
    "@asyncio.coroutine\n",
    "def do_background_stuff(t):\n",
    "\n",
    "    # this seems to be a good way to handle things...\n",
    "    b0=time.time()\n",
    "    \n",
    "    while time.time() - b0 < t:\n",
    "        print('--')\n",
    "        yield From(asyncio.sleep(1))\n",
    "    \n",
    "    print('hallo10!', var)\n",
    "\n",
    "\n",
    "\n",
    "@asyncio.coroutine\n",
    "def add_task_to_loop(loop, var):\n",
    "    print('hallo!', var)\n",
    "    yield From(asyncio.sleep(10))\n",
    "    print('hallo2!', var)\n",
    "\n",
    "\n",
    "@asyncio.coroutine\n",
    "def factorial(name, number, loop):\n",
    "    f = 1\n",
    "    for i in range(2, number + 1):\n",
    "        print(\"Task %s: Compute factorial(%d)...\" % (name, i))\n",
    "        yield From(asyncio.sleep(1))\n",
    "        f *= i\n",
    "    print(\"Task %s completed! factorial(%d) is %d\" % (name, number, f))\n",
    "    yield From(asyncio.async(add_task_to_loop(loop, number)))\n",
    "    \n",
    "\n",
    "loop = asyncio.get_event_loop()"
   ]
  },
  {
   "cell_type": "code",
   "execution_count": 2,
   "metadata": {},
   "outputs": [
    {
     "data": {
      "text/plain": [
       "<Task pending coro=<do_background_stuff() running at <ipython-input-1-18704a1b819f>:8>>"
      ]
     },
     "execution_count": 2,
     "metadata": {},
     "output_type": "execute_result"
    }
   ],
   "source": [
    "loop.create_task(do_background_stuff(100))"
   ]
  },
  {
   "cell_type": "code",
   "execution_count": 3,
   "metadata": {},
   "outputs": [
    {
     "name": "stdout",
     "output_type": "stream",
     "text": [
      "--\n",
      "Task A: Compute factorial(2)...\n",
      "Task B: Compute factorial(2)...\n",
      "Task C: Compute factorial(2)...\n",
      "--\n",
      "Task A: Compute factorial(3)...\n",
      "Task B: Compute factorial(3)...\n",
      "Task C: Compute factorial(3)...\n",
      "--\n",
      "Task A: Compute factorial(4)...\n",
      "Task B completed! factorial(3) is 6\n",
      "Task C: Compute factorial(4)...\n",
      "('hallo!', 3)\n",
      "--\n",
      "Task A: Compute factorial(5)...\n",
      "Task C completed! factorial(4) is 24\n",
      "('hallo!', 4)\n",
      "--\n",
      "Task A: Compute factorial(6)...\n",
      "--\n",
      "Task A: Compute factorial(7)...\n",
      "--\n",
      "Task A: Compute factorial(8)...\n",
      "--\n",
      "Task A completed! factorial(8) is 40320\n",
      "('hallo!', 8)\n",
      "--\n",
      "--\n",
      "--\n",
      "--\n",
      "('hallo2!', 3)\n",
      "--\n",
      "('hallo2!', 4)\n",
      "--\n",
      "--\n",
      "--\n",
      "--\n",
      "('hallo2!', 8)\n",
      "--\n",
      "Task A: Compute factorial(2)...\n",
      "Task B: Compute factorial(2)...\n",
      "Task C: Compute factorial(2)...\n",
      "--\n",
      "Task A completed! factorial(2) is 2\n",
      "('hallo!', 2)\n",
      "Task B: Compute factorial(3)...\n",
      "Task C: Compute factorial(3)...\n",
      "--\n",
      "Task B: Compute factorial(4)...\n",
      "Task C: Compute factorial(4)...\n",
      "--\n",
      "Task B: Compute factorial(5)...\n",
      "Task C: Compute factorial(5)...\n",
      "--\n",
      "Task B completed! factorial(5) is 120\n",
      "Task C: Compute factorial(6)...\n",
      "('hallo!', 5)\n",
      "--\n",
      "Task C completed! factorial(6) is 720\n",
      "('hallo!', 6)\n",
      "--\n",
      "--\n",
      "--\n",
      "--\n",
      "--\n",
      "('hallo2!', 2)\n",
      "--\n",
      "--\n",
      "--\n",
      "('hallo2!', 5)\n",
      "--\n",
      "('hallo2!', 6)\n"
     ]
    },
    {
     "data": {
      "text/plain": [
       "({<Task finished coro=<factorial() done, defined at <ipython-input-1-18704a1b819f>:28> result=None>,\n",
       "  <Task finished coro=<factorial() done, defined at <ipython-input-1-18704a1b819f>:28> result=None>,\n",
       "  <Task finished coro=<factorial() done, defined at <ipython-input-1-18704a1b819f>:28> result=None>},\n",
       " set())"
      ]
     },
     "execution_count": 3,
     "metadata": {},
     "output_type": "execute_result"
    }
   ],
   "source": [
    "tasks = [\n",
    "    asyncio.async(factorial(\"A\", 8, loop)),\n",
    "    asyncio.async(factorial(\"B\", 3, loop)),\n",
    "    asyncio.async(factorial(\"C\", 4, loop))]\n",
    "loop.run_until_complete(asyncio.wait(tasks))\n",
    "tasks\n",
    "time.sleep(1)\n",
    "loop.run_until_complete(asyncio.wait(tasks))  # this is kind of a hack...\n",
    "\n",
    "# make NEW tasks:\n",
    "newtasks = [\n",
    "    asyncio.async(factorial(\"A\", 2, loop)),\n",
    "    asyncio.async(factorial(\"B\", 5, loop)),\n",
    "    asyncio.async(factorial(\"C\", 6, loop))]\n",
    "\n",
    "loop.run_until_complete(asyncio.wait(newtasks))"
   ]
  },
  {
   "cell_type": "code",
   "execution_count": 5,
   "metadata": {},
   "outputs": [
    {
     "data": {
      "text/plain": [
       "<_UnixSelectorEventLoop running=False closed=False debug=False>"
      ]
     },
     "execution_count": 5,
     "metadata": {},
     "output_type": "execute_result"
    }
   ],
   "source": [
    "loop"
   ]
  },
  {
   "cell_type": "code",
   "execution_count": 6,
   "metadata": {},
   "outputs": [
    {
     "name": "stdout",
     "output_type": "stream",
     "text": [
      "Task A: Compute factorial(2)...\n",
      "Task B: Compute factorial(2)...\n",
      "Task C: Compute factorial(2)...\n",
      "--\n",
      "Task A completed! factorial(2) is 2\n",
      "Task B: Compute factorial(3)...\n",
      "('hallo!', 2)\n",
      "Task C: Compute factorial(3)...\n",
      "--\n",
      "Task B: Compute factorial(4)...\n",
      "Task C: Compute factorial(4)...\n",
      "--\n",
      "Task B: Compute factorial(5)...\n",
      "Task C: Compute factorial(5)...\n",
      "--\n",
      "Task B completed! factorial(5) is 120\n",
      "('hallo!', 5)\n",
      "Task C: Compute factorial(6)...\n",
      "--\n",
      "Task C completed! factorial(6) is 720\n",
      "--\n",
      "('hallo!', 6)\n",
      "--\n",
      "--\n",
      "--\n",
      "--\n",
      "--\n",
      "('hallo2!', 2)\n",
      "--\n",
      "--\n",
      "--\n",
      "('hallo2!', 5)\n",
      "--\n",
      "('hallo2!', 6)\n"
     ]
    },
    {
     "data": {
      "text/plain": [
       "({<Task finished coro=<factorial() done, defined at <ipython-input-1-18704a1b819f>:28> result=None>,\n",
       "  <Task finished coro=<factorial() done, defined at <ipython-input-1-18704a1b819f>:28> result=None>,\n",
       "  <Task finished coro=<factorial() done, defined at <ipython-input-1-18704a1b819f>:28> result=None>},\n",
       " set())"
      ]
     },
     "execution_count": 6,
     "metadata": {},
     "output_type": "execute_result"
    }
   ],
   "source": [
    "newtasks = [\n",
    "    asyncio.async(factorial(\"A\", 2, loop)),\n",
    "    asyncio.async(factorial(\"B\", 5, loop)),\n",
    "    asyncio.async(factorial(\"C\", 6, loop))]\n",
    "\n",
    "loop.run_until_complete(asyncio.wait(newtasks))"
   ]
  },
  {
   "cell_type": "code",
   "execution_count": 7,
   "metadata": {},
   "outputs": [
    {
     "name": "stdout",
     "output_type": "stream",
     "text": [
      "Task A: Compute factorial(2)...\n",
      "Task B: Compute factorial(2)...\n",
      "Task C: Compute factorial(2)...\n",
      "Task A completed! factorial(2) is 2\n",
      "Task B: Compute factorial(3)...\n",
      "Task C: Compute factorial(3)...\n",
      "('hallo!', 2)\n",
      "Task B: Compute factorial(4)...\n",
      "Task C: Compute factorial(4)...\n",
      "Task B: Compute factorial(5)...\n",
      "Task C: Compute factorial(5)...\n",
      "Task B completed! factorial(5) is 120\n",
      "Task C: Compute factorial(6)...\n",
      "('hallo!', 5)\n",
      "Task C completed! factorial(6) is 720\n",
      "('hallo!', 6)\n",
      "('hallo2!', 2)\n",
      "('hallo2!', 5)\n",
      "('hallo2!', 6)\n"
     ]
    },
    {
     "data": {
      "text/plain": [
       "({<Task finished coro=<factorial() done, defined at <ipython-input-1-18704a1b819f>:28> result=None>,\n",
       "  <Task finished coro=<factorial() done, defined at <ipython-input-1-18704a1b819f>:28> result=None>,\n",
       "  <Task finished coro=<factorial() done, defined at <ipython-input-1-18704a1b819f>:28> result=None>},\n",
       " set())"
      ]
     },
     "execution_count": 7,
     "metadata": {},
     "output_type": "execute_result"
    }
   ],
   "source": [
    "newtasks = [\n",
    "    asyncio.async(factorial(\"A\", 2, loop)),\n",
    "    asyncio.async(factorial(\"B\", 5, loop)),\n",
    "    asyncio.async(factorial(\"C\", 6, loop))]\n",
    "\n",
    "loop.run_until_complete(asyncio.wait(newtasks))"
   ]
  },
  {
   "cell_type": "code",
   "execution_count": null,
   "metadata": {},
   "outputs": [],
   "source": []
  }
 ],
 "metadata": {
  "kernelspec": {
   "display_name": "Python 2",
   "language": "python",
   "name": "python2"
  },
  "language_info": {
   "codemirror_mode": {
    "name": "ipython",
    "version": 2
   },
   "file_extension": ".py",
   "mimetype": "text/x-python",
   "name": "python",
   "nbconvert_exporter": "python",
   "pygments_lexer": "ipython2",
   "version": "2.7.13"
  }
 },
 "nbformat": 4,
 "nbformat_minor": 2
}
