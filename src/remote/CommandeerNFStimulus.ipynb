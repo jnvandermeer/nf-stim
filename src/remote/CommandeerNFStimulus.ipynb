{
 "cells": [
  {
   "cell_type": "markdown",
   "metadata": {},
   "source": [
    "# Connecting\n",
    "Due to the bylaws of the physical Universe, and Other Nonsensical Issues,\n",
    "The port defined at the beginning of bcinetwork.py (i.e. GUI_PORT), which is a constant of a CLASS\n",
    ".. or counts as such, NEEDS to be put into bcinet as the 3rd parameter.\n",
    ".. I know not why -- because this parameter is used by feedbackcontroller.py, too.\n",
    ".. so then it doesn't make sense to have to specify it HERE in this function call.\n",
    ".. being able to define it in a function call implies that you can CHANGE it, but you CANNOT\n",
    ".. quite misleading\n",
    "\n",
    "anyway:\n",
    "<B> the ip address is the parameter of interest\n",
    "it is the ONLY thing to change, as far as i can see, now\n",
    "\n",
    "the 12345 is the bcinetwork.FC_PORT"
   ]
  },
  {
   "cell_type": "code",
   "execution_count": 1,
   "metadata": {},
   "outputs": [
    {
     "name": "stdout",
     "output_type": "stream",
     "text": [
      "/home/johan/repos/pyff/src\n"
     ]
    }
   ],
   "source": [
    "cd .."
   ]
  },
  {
   "cell_type": "code",
   "execution_count": 2,
   "metadata": {},
   "outputs": [],
   "source": [
    "from lib import bcinetwork\n",
    "from lib import bcixml"
   ]
  },
  {
   "cell_type": "code",
   "execution_count": 3,
   "metadata": {},
   "outputs": [],
   "source": [
    "ip = '127.0.0.1'\n",
    "\n",
    "# bcinetwork.GUI_PORT=12300\n",
    "\n",
    "bcinet = bcinetwork.BciNetwork(ip, bcinetwork.FC_PORT, bcinetwork.GUI_PORT, 'bcixml')\n",
    "feedbacks = bcinet.getAvailableFeedbacks()"
   ]
  },
  {
   "cell_type": "code",
   "execution_count": 4,
   "metadata": {},
   "outputs": [
    {
     "name": "stdout",
     "output_type": "stream",
     "text": [
      "['TestD2', 'MovingRhomb', 'LibetClock', 'TobiQLAdapter', 'Lesson04', 'EyetrackerFeedback', 'HexoSpeller', 'P300_Rectangle', 'ERPHex', 'FeedbackCursorArrow', 'TrivialPong', 'CheckerboardVEP', 'HexoSpellerVE', 'BoringClock', 'nback_verbal', 'VisualOddball', 'BrainPong', 'CakeSpellerVE', 'MovingRhombGL', 'NFBasicThermometer', 'RSVPSpeller', 'Oddball', 'Lesson01b', 'GoalKeeper', 'CenterSpellerVE', 'MultiVisualOddball', 'StroopFeedback', 'ERPMatrix', 'EyetrackerRawdata', 'Lesson05', 'Lesson06', 'Lesson01', 'Lesson02', 'Lesson03', 'VisualOddballVE']\n"
     ]
    }
   ],
   "source": [
    "print(feedbacks)"
   ]
  },
  {
   "cell_type": "code",
   "execution_count": 5,
   "metadata": {},
   "outputs": [],
   "source": [
    "bcinet.send_init('NFBasicThermometer')"
   ]
  },
  {
   "cell_type": "code",
   "execution_count": 6,
   "metadata": {},
   "outputs": [],
   "source": [
    "bcinet.play()"
   ]
  },
  {
   "cell_type": "code",
   "execution_count": 10,
   "metadata": {},
   "outputs": [],
   "source": [
    "signal = bcixml.BciSignal(None, None, bcixml.CONTROL_SIGNAL)\n",
    "signal.data = {'data': -1}\n",
    "bcinet.send_signal(signal)"
   ]
  },
  {
   "cell_type": "code",
   "execution_count": null,
   "metadata": {},
   "outputs": [],
   "source": []
  },
  {
   "cell_type": "code",
   "execution_count": 8,
   "metadata": {},
   "outputs": [
    {
     "name": "stderr",
     "output_type": "stream",
     "text": [
      "No handlers could be found for logger \"BciNetwork-127.0.0.1:12345\"\n"
     ]
    }
   ],
   "source": [
    "bcinet.get_variables()"
   ]
  },
  {
   "cell_type": "code",
   "execution_count": 13,
   "metadata": {},
   "outputs": [],
   "source": [
    "bcinet.quit()"
   ]
  },
  {
   "cell_type": "code",
   "execution_count": 7,
   "metadata": {},
   "outputs": [],
   "source": [
    "import psychopy"
   ]
  },
  {
   "cell_type": "code",
   "execution_count": 8,
   "metadata": {},
   "outputs": [],
   "source": [
    "from psychopy import core"
   ]
  },
  {
   "cell_type": "code",
   "execution_count": 7,
   "metadata": {},
   "outputs": [],
   "source": [
    "countdowntimer = psychopy.clock.CountdownTimer()"
   ]
  },
  {
   "cell_type": "code",
   "execution_count": 8,
   "metadata": {},
   "outputs": [
    {
     "data": {
      "text/plain": [
       "-8.013897895812988"
      ]
     },
     "execution_count": 8,
     "metadata": {},
     "output_type": "execute_result"
    }
   ],
   "source": [
    "countdowntimer.getTime()"
   ]
  },
  {
   "cell_type": "code",
   "execution_count": 1,
   "metadata": {},
   "outputs": [],
   "source": [
    "from psychopy import clock"
   ]
  },
  {
   "cell_type": "code",
   "execution_count": null,
   "metadata": {},
   "outputs": [],
   "source": []
  }
 ],
 "metadata": {
  "kernelspec": {
   "display_name": "Python 2",
   "language": "python",
   "name": "python2"
  },
  "language_info": {
   "codemirror_mode": {
    "name": "ipython",
    "version": 2
   },
   "file_extension": ".py",
   "mimetype": "text/x-python",
   "name": "python",
   "nbconvert_exporter": "python",
   "pygments_lexer": "ipython2",
   "version": "2.7.13"
  }
 },
 "nbformat": 4,
 "nbformat_minor": 2
}
